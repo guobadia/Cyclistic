{
 "cells": [
  {
   "cell_type": "markdown",
   "id": "f7048298",
   "metadata": {},
   "source": [
    "## \n",
    "### ABOUT\n",
    "About the company\n",
    "In 2016, Cyclistic is a company wwhich successfully launched a bike-share offering program that has grown into a fleet of 5,824 bicycles operating in a network of 692 stations. \n",
    "Cyclistic's marketing plan has always focused on growing brand awareness and appealing to a larger consumer demographic through various approaches such asits flexible pricing strategy. There are three major pricing categories namely single ride pass, full day ride pass and annual membership. Customers who purchase the first two categories are reffered toas casual riders while those who opt for the latter are called members. \n",
    "The recommendation of the finance analyst is that Cyclistic's annual members are much more profitable than the casual riders. Although the pricing flexibility attracts a growig customer base, Moreno is convinced that an increase in the number of annual members will be key to future growth. A marketing campaign is targeted at converting casual riders to annual members rather than targeting newer audiences. There is the belief that it is a much more effective strategy as there is already an awareness among casual rider of the different pricing packages. Futhermore, casual riders have a prference for Cyclistic \n",
    "\n",
    "#### BUSINESS OBJECTIVE\n",
    "\n",
    "The business goal is to design a marketing plan with with the aim of convertingcasual ridersinto annual members. To follow through with the objective, I will be assessing the behaviors of both customer group, identifying trends andmaking recommendations.\n",
    "\n",
    "#### DATA\n",
    "\n",
    "For this project, I will be working with 12 months of data spanning  form April 2021 to March 2022. This data is owned by Motivate International Incand I have also been granted non exclusive, royalty free, limited, perpertual license to access, reproduce, analyze, copy, modify, distribute in my product or service and use the Data for any lawful purpose (“License”).\n",
    "\n",
    "There are no issues of bias or credibility with these datasets. They are Reliable, Original, Comprehensive, Current and Cited.\n",
    "For this project, I will be working with Python and Jupyter Notebook as my preffered tools"
   ]
  },
  {
   "cell_type": "code",
   "execution_count": 117,
   "id": "c260ea8b",
   "metadata": {},
   "outputs": [],
   "source": [
    "import pandas as pd\n",
    "import numpy as np\n",
    "import matplotlib.pyplot as plt\n",
    "import seaborn as sns\n",
    "%matplotlib inline\n",
    "\n",
    "plt.style.use('fivethirtyeight')"
   ]
  },
  {
   "cell_type": "code",
   "execution_count": 35,
   "id": "4a0f0bb1",
   "metadata": {},
   "outputs": [],
   "source": [
    "# importing data into jupyter lab notebook\n",
    "\n",
    "bike_1 = pd.read_csv('C:/Users/Master/Documents/ANALYTICS PROJECT PORTOLIO/CYCLIST CASE STUDY/202104-BIKe.csv')\n",
    "bike_2 = pd.read_csv('C:/Users/Master/Documents/ANALYTICS PROJECT PORTOLIO/CYCLIST CASE STUDY/202105-BIKe.csv')\n",
    "bike_3 = pd.read_csv('C:/Users/Master/Documents/ANALYTICS PROJECT PORTOLIO/CYCLIST CASE STUDY/202106-BIKe.csv')\n",
    "bike_4 = pd.read_csv('C:/Users/Master/Documents/ANALYTICS PROJECT PORTOLIO/CYCLIST CASE STUDY/202107-BIKe.csv')\n",
    "bike_5 = pd.read_csv('C:/Users/Master/Documents/ANALYTICS PROJECT PORTOLIO/CYCLIST CASE STUDY/202108-BIKe.csv')\n",
    "bike_6 = pd.read_csv('C:/Users/Master/Documents/ANALYTICS PROJECT PORTOLIO/CYCLIST CASE STUDY/202109-BIKe.csv')\n",
    "bike_7 = pd.read_csv('C:/Users/Master/Documents/ANALYTICS PROJECT PORTOLIO/CYCLIST CASE STUDY/202110-BIKe.csv')\n",
    "bike_8 = pd.read_csv('C:/Users/Master/Documents/ANALYTICS PROJECT PORTOLIO/CYCLIST CASE STUDY/202111-BIKe.csv')\n",
    "bike_9 = pd.read_csv('C:/Users/Master/Documents/ANALYTICS PROJECT PORTOLIO/CYCLIST CASE STUDY/202112-BIKe.csv')\n",
    "bike_10 = pd.read_csv('C:/Users/Master/Documents/ANALYTICS PROJECT PORTOLIO/CYCLIST CASE STUDY/202201-BIKe.csv')\n",
    "bike_11 = pd.read_csv('C:/Users/Master/Documents/ANALYTICS PROJECT PORTOLIO/CYCLIST CASE STUDY/202202-BIKe.csv')\n",
    "bike_12 = pd.read_csv('C:/Users/Master/Documents/ANALYTICS PROJECT PORTOLIO/CYCLIST CASE STUDY/202203-BIKe.csv')"
   ]
  },
  {
   "cell_type": "code",
   "execution_count": 36,
   "id": "1aceb114",
   "metadata": {},
   "outputs": [],
   "source": [
    "# merging dataset\n",
    "\n",
    "bikes = pd.concat([bike_1, bike_2, bike_3, bike_4, bike_5, bike_6, bike_7, bike_8, bike_9, bike_10, bike_11, bike_12]).reset_index(drop=True)\n"
   ]
  },
  {
   "cell_type": "markdown",
   "id": "67281d0c",
   "metadata": {},
   "source": [
    "The merged dataset contain a total of **5723532** entries and **13** columns. After importing and merging the datasets, I check the data structure for duplicate entries, missig values, wrong data type and other inconsistensies."
   ]
  },
  {
   "cell_type": "code",
   "execution_count": 46,
   "id": "1255c1a6",
   "metadata": {},
   "outputs": [
    {
     "name": "stdout",
     "output_type": "stream",
     "text": [
      "<class 'pandas.core.frame.DataFrame'>\n",
      "RangeIndex: 4641395 entries, 0 to 4641394\n",
      "Data columns (total 16 columns):\n",
      " #   Column              Dtype         \n",
      "---  ------              -----         \n",
      " 0   ride_id             object        \n",
      " 1   bike_type           object        \n",
      " 2   start_date          datetime64[ns]\n",
      " 3   end_date            datetime64[ns]\n",
      " 4   start_station_name  object        \n",
      " 5   start_station_id    object        \n",
      " 6   end_station_name    object        \n",
      " 7   end_station_id      object        \n",
      " 8   start_lat           float64       \n",
      " 9   start_lng           float64       \n",
      " 10  end_lat             float64       \n",
      " 11  end_lng             float64       \n",
      " 12  customer_type       object        \n",
      " 13  days                object        \n",
      " 14  month               object        \n",
      " 15  trip_duration       int32         \n",
      "dtypes: datetime64[ns](2), float64(4), int32(1), object(9)\n",
      "memory usage: 548.9+ MB\n"
     ]
    }
   ],
   "source": [
    "# checking data structure and type\n",
    "bikes.info()"
   ]
  },
  {
   "cell_type": "code",
   "execution_count": 38,
   "id": "9c2e912a",
   "metadata": {},
   "outputs": [
    {
     "data": {
      "text/plain": [
       "ride_id                    0\n",
       "rideable_type              0\n",
       "started_at                 0\n",
       "ended_at                   0\n",
       "start_station_name    745376\n",
       "start_station_id      745373\n",
       "end_station_name      796247\n",
       "end_station_id        796247\n",
       "start_lat                  0\n",
       "start_lng                  0\n",
       "end_lat                 4716\n",
       "end_lng                 4716\n",
       "member_casual              0\n",
       "dtype: int64"
      ]
     },
     "execution_count": 38,
     "metadata": {},
     "output_type": "execute_result"
    }
   ],
   "source": [
    "# checking for missing values in each column\n",
    "\n",
    "bikes.isnull().sum()"
   ]
  },
  {
   "cell_type": "code",
   "execution_count": 39,
   "id": "6c11dcc1",
   "metadata": {},
   "outputs": [],
   "source": [
    "# checking for duplicates\n",
    "\n",
    "new_bike = ~ bikes.duplicated()\n",
    "bikes = bikes[new_bike]"
   ]
  },
  {
   "cell_type": "markdown",
   "id": "b9b36bb2",
   "metadata": {},
   "source": [
    "I observe some inconsistencies with the data. Firstly some columns such as the **end_station_id**, **start_station_id**, **end_station_name** and **start_station_name** have over 700000 missing records while the **end_lang** and **end_lat** have 4716 missing values. Due to the total number rows, I will be able to remove rows with missing values without affecting my ananlysis. Additionally, the **started_at** and **ended_at** which are both timestamps are in the wrong data format. I will convert the data type then split the time and date into seperate columns. Finally some column names are a little bit ambiguous. I will be renaming them for ease of identification"
   ]
  },
  {
   "cell_type": "code",
   "execution_count": 40,
   "id": "c61641ec",
   "metadata": {},
   "outputs": [],
   "source": [
    "# deleting rows with NA values\n",
    "\n",
    "bikes = bikes.dropna().reset_index(drop=True)\n"
   ]
  },
  {
   "cell_type": "code",
   "execution_count": 41,
   "id": "c976b604",
   "metadata": {},
   "outputs": [],
   "source": [
    "# converting timestamp to datetime format\n",
    "\n",
    "bikes['started_at'] = pd.to_datetime(bikes['started_at'])\n",
    "bikes['ended_at'] = pd.to_datetime(bikes['ended_at'])\n"
   ]
  },
  {
   "cell_type": "code",
   "execution_count": 42,
   "id": "3b60964e",
   "metadata": {},
   "outputs": [],
   "source": [
    "# renaming columns for ease of identification\n",
    "\n",
    "bikes.rename(columns={'rideable_type':'bike_type','started_at':'start_date','ended_at':'end_date', 'member_casual':'customer_type'}, inplace=True)"
   ]
  },
  {
   "cell_type": "markdown",
   "id": "97fa3fd2",
   "metadata": {},
   "source": [
    "Now the dataset is clean, I will be adding some new columns which will be derived from the dataset. In order to carry out the exploratory part of his project, I will be adding a trip duration, days and month column. However, before i do that, i will be renaming the variables in the **customer_type** column. casual will be renamed casual riders while **member** will be renamed subscribers"
   ]
  },
  {
   "cell_type": "code",
   "execution_count": 137,
   "id": "c1ce40bb",
   "metadata": {},
   "outputs": [],
   "source": [
    "# adding new columns\n",
    "\n",
    "bikes['days'] = bikes.start_date.dt.day_name()\n",
    "bikes['month'] = bikes.start_date.dt.month_name()\n",
    "tsecs = (bikes['end_date'] - bikes['start_date']).dt.total_seconds()\n",
    "bikes['trip_duration'] = tsecs/60\n",
    "bikes['trip_duration'] = bikes['trip_duration'].astype(int)"
   ]
  },
  {
   "cell_type": "code",
   "execution_count": 138,
   "id": "565d3b2a",
   "metadata": {},
   "outputs": [],
   "source": [
    "bikes[\"customer_type\"].replace({\"member\":\"subscriber\", \"customer\":\"casual riders\"}, inplace=True)"
   ]
  },
  {
   "cell_type": "markdown",
   "id": "8ea1ba88",
   "metadata": {},
   "source": [
    "#### DATA EXPLORATION AND VISUALIZATION\n",
    "\n",
    "Our primary objective is to understand he behavior of casual riders and also provide recommendations that would see them turn into subscribers (annual membership plan)"
   ]
  },
  {
   "cell_type": "code",
   "execution_count": 149,
   "id": "8fc27003",
   "metadata": {},
   "outputs": [
    {
     "data": {
      "text/html": [
       "<div>\n",
       "<style scoped>\n",
       "    .dataframe tbody tr th:only-of-type {\n",
       "        vertical-align: middle;\n",
       "    }\n",
       "\n",
       "    .dataframe tbody tr th {\n",
       "        vertical-align: top;\n",
       "    }\n",
       "\n",
       "    .dataframe thead th {\n",
       "        text-align: right;\n",
       "    }\n",
       "</style>\n",
       "<table border=\"1\" class=\"dataframe\">\n",
       "  <thead>\n",
       "    <tr style=\"text-align: right;\">\n",
       "      <th></th>\n",
       "      <th>mean_trip_duration</th>\n",
       "      <th>day_id</th>\n",
       "    </tr>\n",
       "    <tr>\n",
       "      <th>days</th>\n",
       "      <th></th>\n",
       "      <th></th>\n",
       "    </tr>\n",
       "  </thead>\n",
       "  <tbody>\n",
       "    <tr>\n",
       "      <th>Sunday</th>\n",
       "      <td>36.733889</td>\n",
       "      <td>0</td>\n",
       "    </tr>\n",
       "    <tr>\n",
       "      <th>Monday</th>\n",
       "      <td>31.419566</td>\n",
       "      <td>1</td>\n",
       "    </tr>\n",
       "    <tr>\n",
       "      <th>Tuesday</th>\n",
       "      <td>27.584112</td>\n",
       "      <td>2</td>\n",
       "    </tr>\n",
       "    <tr>\n",
       "      <th>Wednesday</th>\n",
       "      <td>27.664562</td>\n",
       "      <td>3</td>\n",
       "    </tr>\n",
       "    <tr>\n",
       "      <th>Thursday</th>\n",
       "      <td>27.420172</td>\n",
       "      <td>4</td>\n",
       "    </tr>\n",
       "    <tr>\n",
       "      <th>Friday</th>\n",
       "      <td>30.090041</td>\n",
       "      <td>5</td>\n",
       "    </tr>\n",
       "    <tr>\n",
       "      <th>Saturday</th>\n",
       "      <td>33.810345</td>\n",
       "      <td>6</td>\n",
       "    </tr>\n",
       "  </tbody>\n",
       "</table>\n",
       "</div>"
      ],
      "text/plain": [
       "           mean_trip_duration  day_id\n",
       "days                                 \n",
       "Sunday              36.733889       0\n",
       "Monday              31.419566       1\n",
       "Tuesday             27.584112       2\n",
       "Wednesday           27.664562       3\n",
       "Thursday            27.420172       4\n",
       "Friday              30.090041       5\n",
       "Saturday            33.810345       6"
      ]
     },
     "execution_count": 149,
     "metadata": {},
     "output_type": "execute_result"
    }
   ],
   "source": [
    "# mean daily average trips of casual riders\n",
    "\n",
    "casual = bikes['customer_type'] == \"casual\"\n",
    "casual_riders = bikes[casual]\n",
    "mean_daily_trip = casual_riders.groupby('days').agg(mean_trip_duration=('trip_duration', 'mean'))\n",
    "\n",
    "sorter = ['Sunday', 'Monday', 'Tuesday', 'Wednesday', 'Thursday', 'Friday', 'Saturday']\n",
    "sorterIndex = dict(zip(sorter,range(len(sorter))))\n",
    "mean_daily_trip['day_id'] = mean_daily_trip.index\n",
    "mean_daily_trip['day_id'] = mean_daily_trip['day_id'].map(sorterIndex)\n",
    "mean_daily_trip.sort_values('day_id', inplace=True)\n",
    "mean_daily_trip"
   ]
  },
  {
   "cell_type": "code",
   "execution_count": 141,
   "id": "d5ace52f",
   "metadata": {},
   "outputs": [
    {
     "data": {
      "text/plain": [
       "Text(0, 0.5, 'average trip duration')"
      ]
     },
     "execution_count": 141,
     "metadata": {},
     "output_type": "execute_result"
    },
    {
     "data": {
      "image/png": "[encoded data removed]",
      "text/plain": [
       "<Figure size 720x432 with 1 Axes>"
      ]
     },
     "metadata": {},
     "output_type": "display_data"
    }
   ],
   "source": [
    "# plotting the graph of \n",
    "\n",
    "fig, ax = plt.subplots(figsize=(10,6), facecolor='white')\n",
    " \n",
    "ax.bar(mean_daily_trip.day_id, mean_daily_trip.mean_trip_duration)\n",
    "ax.set_xticks([x+0.4 for x in mean_daily_trip.day_id])\n",
    "ax.set_xticklabels(mean_daily_trip.index)\n",
    "ax.set_facecolor('white')\n",
    "ax.set_xlabel('days')\n",
    "ax.set_ylabel('average trip duration')"
   ]
  },
  {
   "cell_type": "code",
   "execution_count": 150,
   "id": "ad392697",
   "metadata": {},
   "outputs": [
    {
     "data": {
      "text/html": [
       "<div>\n",
       "<style scoped>\n",
       "    .dataframe tbody tr th:only-of-type {\n",
       "        vertical-align: middle;\n",
       "    }\n",
       "\n",
       "    .dataframe tbody tr th {\n",
       "        vertical-align: top;\n",
       "    }\n",
       "\n",
       "    .dataframe thead th {\n",
       "        text-align: right;\n",
       "    }\n",
       "</style>\n",
       "<table border=\"1\" class=\"dataframe\">\n",
       "  <thead>\n",
       "    <tr style=\"text-align: right;\">\n",
       "      <th></th>\n",
       "      <th>total_rides</th>\n",
       "      <th>average_rides</th>\n",
       "      <th>month_id</th>\n",
       "    </tr>\n",
       "    <tr>\n",
       "      <th>month</th>\n",
       "      <th></th>\n",
       "      <th></th>\n",
       "      <th></th>\n",
       "    </tr>\n",
       "  </thead>\n",
       "  <tbody>\n",
       "    <tr>\n",
       "      <th>January</th>\n",
       "      <td>12605</td>\n",
       "      <td>26.864657</td>\n",
       "      <td>0</td>\n",
       "    </tr>\n",
       "    <tr>\n",
       "      <th>February</th>\n",
       "      <td>15144</td>\n",
       "      <td>24.331022</td>\n",
       "      <td>1</td>\n",
       "    </tr>\n",
       "    <tr>\n",
       "      <th>March</th>\n",
       "      <td>67156</td>\n",
       "      <td>27.946736</td>\n",
       "      <td>2</td>\n",
       "    </tr>\n",
       "    <tr>\n",
       "      <th>April</th>\n",
       "      <td>120420</td>\n",
       "      <td>37.950722</td>\n",
       "      <td>3</td>\n",
       "    </tr>\n",
       "    <tr>\n",
       "      <th>May</th>\n",
       "      <td>216829</td>\n",
       "      <td>39.144552</td>\n",
       "      <td>4</td>\n",
       "    </tr>\n",
       "    <tr>\n",
       "      <th>June</th>\n",
       "      <td>304192</td>\n",
       "      <td>38.029120</td>\n",
       "      <td>5</td>\n",
       "    </tr>\n",
       "    <tr>\n",
       "      <th>July</th>\n",
       "      <td>369415</td>\n",
       "      <td>32.793549</td>\n",
       "      <td>6</td>\n",
       "    </tr>\n",
       "    <tr>\n",
       "      <th>August</th>\n",
       "      <td>341476</td>\n",
       "      <td>28.073513</td>\n",
       "      <td>7</td>\n",
       "    </tr>\n",
       "    <tr>\n",
       "      <th>September</th>\n",
       "      <td>292931</td>\n",
       "      <td>27.597543</td>\n",
       "      <td>8</td>\n",
       "    </tr>\n",
       "    <tr>\n",
       "      <th>October</th>\n",
       "      <td>189117</td>\n",
       "      <td>25.823369</td>\n",
       "      <td>9</td>\n",
       "    </tr>\n",
       "    <tr>\n",
       "      <th>November</th>\n",
       "      <td>69978</td>\n",
       "      <td>21.975964</td>\n",
       "      <td>10</td>\n",
       "    </tr>\n",
       "    <tr>\n",
       "      <th>December</th>\n",
       "      <td>45076</td>\n",
       "      <td>24.354890</td>\n",
       "      <td>11</td>\n",
       "    </tr>\n",
       "  </tbody>\n",
       "</table>\n",
       "</div>"
      ],
      "text/plain": [
       "           total_rides  average_rides  month_id\n",
       "month                                          \n",
       "January          12605      26.864657         0\n",
       "February         15144      24.331022         1\n",
       "March            67156      27.946736         2\n",
       "April           120420      37.950722         3\n",
       "May             216829      39.144552         4\n",
       "June            304192      38.029120         5\n",
       "July            369415      32.793549         6\n",
       "August          341476      28.073513         7\n",
       "September       292931      27.597543         8\n",
       "October         189117      25.823369         9\n",
       "November         69978      21.975964        10\n",
       "December         45076      24.354890        11"
      ]
     },
     "execution_count": 150,
     "metadata": {},
     "output_type": "execute_result"
    }
   ],
   "source": [
    "# total monthly rides \n",
    "\n",
    "casual = bikes['customer_type'] == \"casual\"\n",
    "casual_riders = bikes[casual]\n",
    "total_monthly_rides = casual_riders.groupby('month').agg(total_rides=('start_date', 'count'), average_rides=('trip_duration', 'mean'))\n",
    "\n",
    "# monthly usage of cyclistic services by casual riders\n",
    "\n",
    "sorter = ['January', 'February', 'March', 'April', 'May', 'June', 'July', 'August', 'September', 'October', 'November', 'December']\n",
    "sorterIndex = dict(zip(sorter,range(len(sorter))))\n",
    "total_monthly_rides['month_id'] = total_monthly_rides.index\n",
    "total_monthly_rides['month_id'] = total_monthly_rides['month_id'].map(sorterIndex)\n",
    "total_monthly_rides.sort_values('month_id', inplace=True)\n",
    "total_monthly_rides"
   ]
  },
  {
   "cell_type": "code",
   "execution_count": 148,
   "id": "b92d3313",
   "metadata": {},
   "outputs": [
    {
     "data": {
      "text/plain": [
       "Text(0, 0.5, 'total trips')"
      ]
     },
     "execution_count": 148,
     "metadata": {},
     "output_type": "execute_result"
    },
    {
     "data": {
      "image/png": "[encoded data removed]",
      "text/plain": [
       "<Figure size 864x432 with 1 Axes>"
      ]
     },
     "metadata": {},
     "output_type": "display_data"
    }
   ],
   "source": [
    "# plotting the total monthly rides against the months\n",
    "\n",
    "fig, ax = plt.subplots(figsize=(12,6), facecolor='white')\n",
    " \n",
    "ax.bar(total_monthly_rides.month_id, total_monthly_rides.total_rides)\n",
    "ax.set_xticks([x+0.4 for x in total_monthly_rides.month_id])\n",
    "ax.set_xticklabels(total_monthly_rides.index)\n",
    "ax.set_facecolor('white')\n",
    "ax.set_xlabel('months')\n",
    "ax.set_ylabel('total trips')"
   ]
  },
  {
   "cell_type": "code",
   "execution_count": 172,
   "id": "6eb7f4c3",
   "metadata": {},
   "outputs": [
    {
     "data": {
      "text/plain": [
       "<AxesSubplot:ylabel='total_ride'>"
      ]
     },
     "execution_count": 172,
     "metadata": {},
     "output_type": "execute_result"
    },
    {
     "data": {
      "image/png": "[encoded data removed]",
      "text/plain": [
       "<Figure size 432x288 with 1 Axes>"
      ]
     },
     "metadata": {},
     "output_type": "display_data"
    }
   ],
   "source": [
    "# understanding bike type usage among casual customers\n",
    "\n",
    "casual = bikes['customer_type'] == \"casual\"\n",
    "casual_riders = bikes[casual]\n",
    "total_monthly_rides = casual_riders.groupby('bike_type').agg(total_ride=('start_date','count')).reset_index()\n",
    "\n",
    "  \n",
    "# Creating explode data\n",
    "\n",
    "explode = (0.1, 0.1, 0.0,)\n",
    " \n",
    "# Creating color parameters\n",
    "\n",
    "colors = ( \"orange\", \"cyan\", \"brown\")\n",
    " \n",
    "# Wedge properties\n",
    "\n",
    "wp = { 'linewidth' : 1, 'edgecolor' : \"green\" }\n",
    "\n",
    "# Plotting the pie chart for above dataframe\n",
    "total_monthly_rides.groupby(['bike_type']).sum().plot(\n",
    "    kind='pie', y='total_ride', \n",
    "  autopct='%1.0f%%', colors=colors, explode=myexplode, startangle = 90, wedgeprops = wp)\n"
   ]
  },
  {
   "cell_type": "markdown",
   "id": "24cfcd79",
   "metadata": {},
   "source": [
    "#### CONCLUSION\n",
    "\n",
    "My analysis shows that there is an average increase in ride duration of casual riders during the weekends with Sunday recording the highest average duration of over 35 minutes. Secondly, Summer accounts for the period with the most number of rides by casual riders. July witnessed the highest total number of rides with 369415 total number of rides. December, January and February had individul ride totals ofbelow 50000. Finally,the most popular bike type among casual riders is the classic bike while the least popular is docked bike a 15%total usage\n",
    "\n",
    "#### RECOMMENDATION \n",
    "\n",
    "My recommendation to the Cyclistic marketing team is that coversion campaigns should focus on creating promos for annual memberships during weekends and also Summer periods. Additionally, there should an emphasis for promos on classic bikes as most casual riders (61%) opt for this bike type.\n",
    "\n",
    "**THANK YOU**"
   ]
  },
  {
   "cell_type": "code",
   "execution_count": null,
   "id": "9bc837cc",
   "metadata": {},
   "outputs": [],
   "source": []
  }
 ],
 "metadata": {
  "kernelspec": {
   "display_name": "Python 3 (ipykernel)",
   "language": "python",
   "name": "python3"
  },
  "language_info": {
   "codemirror_mode": {
    "name": "ipython",
    "version": 3
   },
   "file_extension": ".py",
   "mimetype": "text/x-python",
   "name": "python",
   "nbconvert_exporter": "python",
   "pygments_lexer": "ipython3",
   "version": "3.9.7"
  }
 },
 "nbformat": 4,
 "nbformat_minor": 5
}
